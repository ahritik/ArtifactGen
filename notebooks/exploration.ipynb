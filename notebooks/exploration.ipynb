{
 "cells": [
  {
   "cell_type": "markdown",
   "id": "deaaee72",
   "metadata": {},
   "source": [
    "# ArtifactGEN Exploration\n",
    "Visualize real vs synthetic EEG windows; update paths as needed."
   ]
  },
  {
   "cell_type": "code",
   "execution_count": null,
   "id": "8f1940e9",
   "metadata": {},
   "outputs": [],
   "source": [
    "import json, numpy as np, matplotlib.pyplot as plt\n",
    "from pathlib import Path\n",
    "man = Path('../results/manifest.json')\n",
    "items = json.loads(man.read_text()) if man.exists() else []\n",
    "len(items)"
   ]
  }
 ],
 "metadata": {
  "language_info": {
   "name": "python"
  }
 },
 "nbformat": 4,
 "nbformat_minor": 5
}
